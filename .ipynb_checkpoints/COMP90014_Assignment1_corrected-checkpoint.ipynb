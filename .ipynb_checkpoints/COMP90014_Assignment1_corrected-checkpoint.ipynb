{
 "cells": [
  {
   "cell_type": "markdown",
   "metadata": {},
   "source": [
    "# COMP90014 Assignment 1\n",
    "### Semester 2, 2019"
   ]
  },
  {
   "cell_type": "markdown",
   "metadata": {},
   "source": [
    "**\\*\\* This version of the assignment has corrected the guide answer in task 5** "
   ]
  },
  {
   "cell_type": "markdown",
   "metadata": {},
   "source": [
    "This assignment should be completed by each student individually. Make sure you read this entire document, and ask for help if anything is not clear. Any changes or clarification to this document will be announced via the LMS.\n",
    "\n",
    "Please make sure you are aware of the University's rules on academic honesty and plagiarism, which are very strict: https://academichonesty.unimelb.edu.au/ \n",
    "\n",
    "Make sure you **do not** copy any code either from other students or from the internet. This is considered plagiarism. It is generally a good idea to avoid looking at any solutions as you may find it surprisingly difficult to generate your own solution to the problem once you have seen somebody else's.\n",
    "\n",
    "Your completed notebook file containing all your answers will be turned in via LMS. No other files or formats will be accepted - only upload the completed `.ipynb` file."
   ]
  },
  {
   "cell_type": "markdown",
   "metadata": {},
   "source": [
    "### Overview\n",
    "To complete the assignment you will need to finish the tasks in this notebook. There are multiple tasks that are connected in a logical order.\n",
    "\n",
    "The tasks are a combination of writing your own implementations of algorithms we've discussed in lectures, writing your own code to use library implementations of these algorithms and interpreting the results in short answer format. Each short answer question has a word limit that will be strictly enforced!\n",
    "\n",
    "In some case, we have provided test input and test output that you can use to try out your solutions. These tests are just samples and are not exhaustive - they may warn you if you've made a mistake, but they are not guaranteed to. It's up to you to decide whether your code is correct."
   ]
  },
  {
   "cell_type": "markdown",
   "metadata": {},
   "source": [
    "### Marking\n",
    "\n",
    "Cells that must be completed to receive marks are clearly labeled. There are 16 graded cells, some of which are code cells, in which you must complete the code to solve a problem, and some of which are markdown cells, in which you must write your answers to short-answer questions. In addition to the graded cells, up to 8 marks will be given for code style, readability, efficiency and comments. \n",
    "\n",
    "The total marks for the assignment add up to 45, and it will be worth 15% of your overall subject grade."
   ]
  },
  {
   "cell_type": "markdown",
   "metadata": {},
   "source": [
    "### Background and data\n",
    "During this assignment you will go through the steps to generate trees from a set of sequences. This includes calculating the distance matrices and the trees themselves using multiple algorithms. At each step of the process you will be asked to fill out short answer questions to demonstrate your understanding of the concepts.\n",
    "\n",
    "The sequences you will use are the following [C2H2 zinc finger genes](https://en.wikipedia.org/wiki/Zinc_finger#Cys2His2) listed with links to their NCBI RefSeq records:\n",
    "- [*KLF1*](https://www.ncbi.nlm.nih.gov/nuccore/NM_006563)\n",
    "- [*KLF3*](https://www.ncbi.nlm.nih.gov/nuccore/NM_016531)\n",
    "- [*KLF7*](https://www.ncbi.nlm.nih.gov/nuccore/NM_003709)\n",
    "- [*YY1*](https://www.ncbi.nlm.nih.gov/nuccore/NM_003403)\n",
    "- [*SP1*](https://www.ncbi.nlm.nih.gov/nuccore/NM_001251825)\n",
    "- [*SP4*](https://www.ncbi.nlm.nih.gov/nuccore/NM_003112)\n",
    "- [*SP8*](https://www.ncbi.nlm.nih.gov/nuccore/NM_182700)\n"
   ]
  },
  {
   "cell_type": "markdown",
   "metadata": {},
   "source": [
    "### Task 1 - Setup\n",
    "\n",
    "A new directory named `sequences`has been created in the same place as this notebook with a saved  FASTA file for each of the sequences above. The sequence files are named `<accession>.fa` where `<accession>` is the RefSeq accession number (e.g. `NM_006563.fa` for the *KLF1* sequence). Please look in the directory to undertsand the format of the data you will be working with. \n",
    "\n",
    "These files should show up when you `git pull`, you can run the code below to read in the sequences you just downloaded into a handy data structure. \n",
    "\n",
    "First, we create a dictionary `accessions` with gene names as keys and RefSeq accessions as values and populate it with the seven genes above.\n",
    "\n",
    "Next we create a second dictionary `sequences` with gene names as keys and DNA sequence objects from the FASTA files as values. We read the FASTA files using the `scikit-bio` library method `skbio.sequence.DNA.read()`."
   ]
  },
  {
   "cell_type": "code",
   "execution_count": 3,
   "metadata": {
    "collapsed": true
   },
   "outputs": [],
   "source": [
    "import os.path\n",
    "import random\n",
    "import skbio\n",
    "from math import inf\n",
    "from io import StringIO"
   ]
  },
  {
   "cell_type": "code",
   "execution_count": 4,
   "metadata": {
    "collapsed": true
   },
   "outputs": [],
   "source": [
    "accessions = dict()\n",
    "sequences = dict()\n",
    "\n",
    "accessions['KLF1'] = \"NM_006563\"\n",
    "accessions['KLF3'] = \"NM_016531\"\n",
    "accessions['KLF7'] = \"NM_003709\"\n",
    "accessions['YY1'] = \"NM_003403\"\n",
    "accessions['SP1'] = \"NM_001251825\"\n",
    "accessions['SP4'] = \"NM_003112\"\n",
    "accessions['SP8'] = \"NM_182700\"\n",
    "\n",
    "for key in accessions.keys():\n",
    "    with open(os.path.join(\"sequences\", \"{}.fa\".format(accessions[key]))) as fasta:\n",
    "        sequences[key] = skbio.sequence.DNA.read(fasta)      "
   ]
  },
  {
   "cell_type": "markdown",
   "metadata": {},
   "source": [
    "Run the cell below to see an overview of the information we've just read in. Make sure you understand what is being printed, and ask for help if you don't."
   ]
  },
  {
   "cell_type": "code",
   "execution_count": 5,
   "metadata": {
    "collapsed": true
   },
   "outputs": [
    {
     "name": "stdout",
     "output_type": "stream",
     "text": [
      "KLF1\tNM_006563\t1645\tTCAGAGTTCA\n",
      "KLF3\tNM_016531\t5594\tAGAGCGAGCG\n",
      "KLF7\tNM_003709\t8365\tAACAGCGCTG\n",
      "YY1\tNM_003403\t6534\tCTCCCTCTGC\n",
      "SP1\tNM_001251825\t7536\tACCCCCCCCT\n",
      "SP4\tNM_003112\t6077\tACAGCCCAGC\n",
      "SP8\tNM_182700\t3626\tATTGTATTGC\n"
     ]
    }
   ],
   "source": [
    "for key in accessions.keys():\n",
    "    print(key, accessions[key], len(sequences[key]), str(sequences[key])[:10], sep='\\t')"
   ]
  },
  {
   "cell_type": "markdown",
   "metadata": {},
   "source": [
    "## Part 1 - Distance calculations\n",
    "Distances between sequences can be calculated in a number of different ways. In this part, you will calculate distance matrices for a set of sequences in two different ways. "
   ]
  },
  {
   "cell_type": "markdown",
   "metadata": {},
   "source": [
    "### Task 2 - Creating a distance matrix\n",
    "Write a function `init_distance_matrix` that creates a distance matrix as a dictionary of dictionaries (similar to the substitution matrix in the Week 04 - Trees lab). The dictionary keys should be gene names and the values should be `None` after initialization."
   ]
  },
  {
   "cell_type": "code",
   "execution_count": 404,
   "metadata": {
    "collapsed": true
   },
   "outputs": [],
   "source": [
    "# ~~ GRADED CELL (2 marks) - complete this cell ~~\n",
    "\n",
    "def init_distance_matrix(genes):\n",
    "    \"\"\"\n",
    "    Take in a list of gene names and return a dict.\n",
    "    The dict should be a nested 'dictionary of dictionaries', where the keys of the\n",
    "    both the outer dict and the nested dicts are gene names.\n",
    "    It should be possible to look up a value in the returned dict with a \n",
    "    call like dist[gene1][gene2].\n",
    "    \"\"\"\n",
    "    dist = dict()\n",
    "\n",
    "    ### YOUR CODE HERE - fill in the rest of this function\n",
    "    for outer_key in genes:\n",
    "        dist[outer_key] = dict() # create a new nested dist\n",
    "        for inner_key in genes:\n",
    "            dist[outer_key][inner_key] = None\n",
    "        \n",
    "    return dist"
   ]
  },
  {
   "cell_type": "markdown",
   "metadata": {},
   "source": [
    "If you have implemented the code correctly, the following tests should give the right results:"
   ]
  },
  {
   "cell_type": "code",
   "execution_count": 405,
   "metadata": {
    "collapsed": true
   },
   "outputs": [
    {
     "name": "stdout",
     "output_type": "stream",
     "text": [
      "dict_keys(['KLF1', 'KLF3', 'KLF7', 'YY1', 'SP1', 'SP4', 'SP8'])\n"
     ]
    }
   ],
   "source": [
    "# Should give: dict_keys(['KLF1', 'KLF3', 'KLF7', 'YY1', 'SP1', 'SP4', 'SP8'])\n",
    "dist = init_distance_matrix(accessions.keys())\n",
    "print(dist.keys())"
   ]
  },
  {
   "cell_type": "code",
   "execution_count": 406,
   "metadata": {
    "collapsed": true
   },
   "outputs": [
    {
     "name": "stdout",
     "output_type": "stream",
     "text": [
      "None\n"
     ]
    }
   ],
   "source": [
    "# Should give: None\n",
    "dist = init_distance_matrix(accessions.keys())\n",
    "print(dist['KLF1']['SP1'])"
   ]
  },
  {
   "cell_type": "code",
   "execution_count": 407,
   "metadata": {
    "collapsed": true
   },
   "outputs": [
    {
     "ename": "TypeError",
     "evalue": "'NoneType' object is not subscriptable",
     "output_type": "error",
     "traceback": [
      "\u001b[0;31m---------------------------------------------------------------------------\u001b[0m",
      "\u001b[0;31mTypeError\u001b[0m                                 Traceback (most recent call last)",
      "\u001b[0;32m<ipython-input-407-266f50077d0b>\u001b[0m in \u001b[0;36m<module>\u001b[0;34m()\u001b[0m\n\u001b[1;32m      1\u001b[0m \u001b[0;31m# Should give an error!\u001b[0m\u001b[0;34m\u001b[0m\u001b[0;34m\u001b[0m\u001b[0m\n\u001b[1;32m      2\u001b[0m \u001b[0mdist\u001b[0m \u001b[0;34m=\u001b[0m \u001b[0minit_distance_matrix\u001b[0m\u001b[0;34m(\u001b[0m\u001b[0maccessions\u001b[0m\u001b[0;34m.\u001b[0m\u001b[0mkeys\u001b[0m\u001b[0;34m(\u001b[0m\u001b[0;34m)\u001b[0m\u001b[0;34m)\u001b[0m\u001b[0;34m\u001b[0m\u001b[0m\n\u001b[0;32m----> 3\u001b[0;31m \u001b[0mprint\u001b[0m\u001b[0;34m(\u001b[0m\u001b[0mdist\u001b[0m\u001b[0;34m[\u001b[0m\u001b[0;34m'YY1'\u001b[0m\u001b[0;34m]\u001b[0m\u001b[0;34m[\u001b[0m\u001b[0;34m'SP4'\u001b[0m\u001b[0;34m]\u001b[0m\u001b[0;34m[\u001b[0m\u001b[0;34m'KLF1'\u001b[0m\u001b[0;34m]\u001b[0m\u001b[0;34m)\u001b[0m\u001b[0;34m\u001b[0m\u001b[0m\n\u001b[0m",
      "\u001b[0;31mTypeError\u001b[0m: 'NoneType' object is not subscriptable"
     ]
    }
   ],
   "source": [
    "# Should give an error!\n",
    "dist = init_distance_matrix(accessions.keys())\n",
    "print(dist['YY1']['SP4']['KLF1'])"
   ]
  },
  {
   "cell_type": "markdown",
   "metadata": {},
   "source": [
    "The following function will pretty-print a distance matrix that has been specified correctly."
   ]
  },
  {
   "cell_type": "code",
   "execution_count": 365,
   "metadata": {
    "collapsed": true
   },
   "outputs": [],
   "source": [
    "def print_distance_matrix(dist):\n",
    "    \"\"\"\n",
    "    Pretty-print a distance matrix.\n",
    "    \"\"\"\n",
    "    genes = sorted(dist.keys())\n",
    "\n",
    "    for s in [''] + genes:\n",
    "        print(\"{: >10}\".format(s), end='')\n",
    "    print()\n",
    "\n",
    "    for key1 in genes:\n",
    "        print(\"{:10}\".format(key1), end='')\n",
    "        for key2 in genes:\n",
    "            value = dist[key1][key2]\n",
    "            if value is None:\n",
    "                print(\"      None\", end='')\n",
    "            else:\n",
    "                print(\"{: >#10.5f}\".format(dist[key1][key2]), end='')\n",
    "        print()"
   ]
  },
  {
   "cell_type": "markdown",
   "metadata": {},
   "source": [
    "### Task 3 - Pairwise alignment scores as distances\n",
    "The `skbio.alignment.local_pairwise_align_ssw()` library function calculates Striped Smith-Waterman alignments using a highly optimized implementation. It returns a tuple containing:\n",
    "- `TabularMSA` object describing the alignment\n",
    "- alignment score\n",
    "- tuple of aligned position ranges\n",
    "\n",
    "Here is some example output from calling `skbio.alignment.local_pairwise_align_ssw()`. Notice that changing the order of the sequences doesn't change the alignment."
   ]
  },
  {
   "cell_type": "code",
   "execution_count": 11,
   "metadata": {},
   "outputs": [
    {
     "data": {
      "text/plain": [
       "(TabularMSA[DNA]\n",
       " ----------------------------------\n",
       " Stats:\n",
       "     sequence count: 2\n",
       "     position count: 34\n",
       " ----------------------------------\n",
       " CTCCCAGATAAAAAAAAAAAAAAAAAAAAAAAAA\n",
       " CTCCCA---AAAAAAAAAAAAAAAAAAAAAAAAA, 53, [(1603, 1636), (4802, 4832)])"
      ]
     },
     "execution_count": 11,
     "metadata": {},
     "output_type": "execute_result"
    }
   ],
   "source": [
    "skbio.alignment.local_pairwise_align_ssw(sequences['KLF1'], sequences['YY1'])"
   ]
  },
  {
   "cell_type": "code",
   "execution_count": 33,
   "metadata": {},
   "outputs": [
    {
     "data": {
      "text/plain": [
       "(TabularMSA[DNA]\n",
       " ----------------------------------\n",
       " Stats:\n",
       "     sequence count: 2\n",
       "     position count: 34\n",
       " ----------------------------------\n",
       " CTCCCA---AAAAAAAAAAAAAAAAAAAAAAAAA\n",
       " CTCCCAGATAAAAAAAAAAAAAAAAAAAAAAAAA, 53, [(4802, 4832), (1603, 1636)])"
      ]
     },
     "execution_count": 33,
     "metadata": {},
     "output_type": "execute_result"
    }
   ],
   "source": [
    "skbio.alignment.local_pairwise_align_ssw(sequences['YY1'], sequences['KLF1'])"
   ]
  },
  {
   "cell_type": "code",
   "execution_count": 11,
   "metadata": {},
   "outputs": [
    {
     "data": {
      "text/plain": [
       "53"
      ]
     },
     "execution_count": 11,
     "metadata": {},
     "output_type": "execute_result"
    }
   ],
   "source": [
    "# Get just the score, by indexing into the tuple\n",
    "result_tuple = skbio.alignment.local_pairwise_align_ssw(sequences['KLF1'], sequences['YY1'])\n",
    "result_tuple[1]"
   ]
  },
  {
   "cell_type": "code",
   "execution_count": 366,
   "metadata": {},
   "outputs": [
    {
     "data": {
      "text/plain": [
       "[(1603, 1636), (4802, 4832)]"
      ]
     },
     "execution_count": 366,
     "metadata": {},
     "output_type": "execute_result"
    }
   ],
   "source": [
    "# Get just the tuples showing aligned ranges\n",
    "skbio.alignment.local_pairwise_align_ssw(sequences['KLF1'], sequences['YY1'])[2]"
   ]
  },
  {
   "cell_type": "markdown",
   "metadata": {},
   "source": [
    "Complete the function `create_pairwise_dist_matrix` below. This function should create a  distance matrix using your function `init_distance_matrix`, then use `skbio.alignment.local_pairwise_align_ssw()` to populate it with alignment scores. `skbio.alignment.local_pairwise_align_ssw()` returns a tuple, and the second item in the tuple is the alignment score. Use `1 / score` as the value in the distance matrix.\n",
    "\n",
    "Recall that this matrix will be symmetrical so your solution should only calculate each alignment once."
   ]
  },
  {
   "cell_type": "code",
   "execution_count": 408,
   "metadata": {
    "collapsed": true
   },
   "outputs": [],
   "source": [
    "# ~~ GRADED CELL (2 marks) - complete this cell ~~\n",
    "\n",
    "def create_pairwise_dist_matrix(seqs):\n",
    "    \"\"\"\n",
    "    Take in a dict with sequence names as keys and sequences as values.\n",
    "    Return a dict representing the pairwise distances between all pairs of sequences.\n",
    "    \"\"\"\n",
    "    ### YOUR CODE HERE - fill in this function\n",
    "    dist = init_distance_matrix(seqs.keys())\n",
    "    for outer_idx, outer_key in enumerate(dist):\n",
    "        for inner_idx, inner_key in enumerate(dist[outer_key]):\n",
    "            if outer_idx == inner_idx:\n",
    "                # a gene has 0 distance to itself\n",
    "                dist[outer_key][inner_key] = 0\n",
    "            elif outer_idx < inner_idx:\n",
    "                # generate upper half of the matrix using SSW\n",
    "                dist[outer_key][inner_key] = \\\n",
    "                1 / skbio.alignment.local_pairwise_align_ssw(seqs[inner_key], seqs[outer_key])[1]\n",
    "            else:\n",
    "                # transpose the matrix since it is symmetric\n",
    "                dist[outer_key][inner_key] = dist[inner_key][outer_key]\n",
    "                \n",
    "    return dist"
   ]
  },
  {
   "cell_type": "markdown",
   "metadata": {},
   "source": [
    "When you have implemented `create_pairwise_dist_matrix` correctly, the following should creat and print the filled-out distance matrix:"
   ]
  },
  {
   "cell_type": "code",
   "execution_count": 409,
   "metadata": {
    "collapsed": true
   },
   "outputs": [
    {
     "name": "stdout",
     "output_type": "stream",
     "text": [
      "                KLF1      KLF3      KLF7       SP1       SP4       SP8       YY1\n",
      "KLF1         0.00000   0.01220   0.00833   0.02174   0.02500   0.00962   0.01887\n",
      "KLF3         0.01220   0.00000   0.00855   0.03125   0.02439   0.02941   0.03448\n",
      "KLF7         0.00833   0.00855   0.00000   0.02222   0.02632   0.02857   0.02326\n",
      "SP1          0.02174   0.03125   0.02222   0.00000   0.00446   0.00606   0.02564\n",
      "SP4          0.02500   0.02439   0.02632   0.00446   0.00000   0.01562   0.02326\n",
      "SP8          0.00962   0.02941   0.02857   0.00606   0.01562   0.00000   0.01852\n",
      "YY1          0.01887   0.03448   0.02326   0.02564   0.02326   0.01852   0.00000\n"
     ]
    }
   ],
   "source": [
    "dist_pairwise = create_pairwise_dist_matrix(sequences)\n",
    "print_distance_matrix(dist_pairwise)"
   ]
  },
  {
   "cell_type": "markdown",
   "metadata": {},
   "source": [
    "Test that your function produces the correct results on the toy sequences below. The below code should print\n",
    "\n",
    "                    GeneA     GeneB     GeneC\n",
    "    GeneA        0.00000   0.10000   0.25000\n",
    "    GeneB        0.10000   0.00000   0.25000\n",
    "    GeneC        0.25000   0.25000   0.00000\n"
   ]
  },
  {
   "cell_type": "code",
   "execution_count": 410,
   "metadata": {
    "collapsed": true
   },
   "outputs": [
    {
     "name": "stdout",
     "output_type": "stream",
     "text": [
      "               GeneA     GeneB     GeneC\n",
      "GeneA        0.00000   0.10000   0.25000\n",
      "GeneB        0.10000   0.00000   0.25000\n",
      "GeneC        0.25000   0.25000   0.00000\n"
     ]
    }
   ],
   "source": [
    "test_sequences = {'GeneA': skbio.DNA('GATTACA'), 'GeneB': skbio.DNA('GTTACAT'), 'GeneC':skbio.DNA('AGCTATG')}\n",
    "test_dist_pairwise = create_pairwise_dist_matrix(test_sequences)\n",
    "print_distance_matrix(test_dist_pairwise)"
   ]
  },
  {
   "cell_type": "markdown",
   "metadata": {},
   "source": [
    "#### Task 3 - Question 1\n",
    "Why do we use `1 / score` instead of `score` for the distance? (max 50 words).\n",
    "\n",
    "Write your answer in the markdown cell below.\n"
   ]
  },
  {
   "cell_type": "markdown",
   "metadata": {},
   "source": [
    "~~ GRADED CELL (3 marks) - complete this cell ~~\n",
    "\n",
    "*Your answer here*<br>Smith-Waterman alignment provides a score of alignment, which implies that the higher the score is, the more similar the 2 sequences are. This is inverse to the definition of distance. The larger the distance is, the less similar they are. Hence, we use `1 / score` to keep the definition consistent."
   ]
  },
  {
   "cell_type": "markdown",
   "metadata": {},
   "source": [
    "### Task 4 - Multiple alignment distances\n",
    "The following code will load the precomputed protein multiple sequence alignment of our genes (generated using Clustal $\\Omega$) and read it into a `TabularNSA` object. Download the `znfs.clustal_num` file from the LMS and put it in the same directory as the notebook."
   ]
  },
  {
   "cell_type": "code",
   "execution_count": 18,
   "metadata": {},
   "outputs": [
    {
     "data": {
      "text/plain": [
       "TabularMSA[Protein]\n",
       "-----------------------------------------------------------------------\n",
       "Stats:\n",
       "    sequence count: 7\n",
       "    position count: 998\n",
       "-----------------------------------------------------------------------\n",
       "--------------------------------- ... ---------------------------------\n",
       "--------------------------------- ... ---------------------------------\n",
       "...\n",
       "MSDQDHSMDEMTAVVKI---------------- ... AICPEGIARLANSGINVMQVADLQSINISGNGF\n",
       "MSDQKKEEEEEAAAAAAMATEGGKTSEPENNNK ... AISQDSNPATPNVSTNMEE-------------F"
      ]
     },
     "execution_count": 18,
     "metadata": {},
     "output_type": "execute_result"
    }
   ],
   "source": [
    "with open(\"znfs.clustal_num\") as znfs:\n",
    "    znf_msa = skbio.TabularMSA.read(znfs, constructor=skbio.Protein)\n",
    "znf_msa"
   ]
  },
  {
   "cell_type": "markdown",
   "metadata": {},
   "source": [
    "Now, you will write some code to calculate pairwise identity from the multiple alignment. The `TabularMSA` is indexed by gene name. We can extract a subset with a pair of genes by indexing with a list of two gene names, using the following syntax, which will be familiar to students that have used `pandas` for data science in Python:"
   ]
  },
  {
   "cell_type": "code",
   "execution_count": 19,
   "metadata": {},
   "outputs": [
    {
     "data": {
      "text/plain": [
       "TabularMSA[Protein]\n",
       "-----------------------------------------------------------------------\n",
       "Stats:\n",
       "    sequence count: 2\n",
       "    position count: 998\n",
       "-----------------------------------------------------------------------\n",
       "--------------------------------- ... ---------------------------------\n",
       "--------------------------------- ... ---------------------------------"
      ]
     },
     "execution_count": 19,
     "metadata": {},
     "output_type": "execute_result"
    }
   ],
   "source": [
    "znf_msa.loc[['KLF1', 'YY1']]"
   ]
  },
  {
   "cell_type": "markdown",
   "metadata": {},
   "source": [
    "The following example code iterates over all positions using the `.iter_positons()` method. This returns a `Sequence` object for each column. It skips positions where either sequence contains a gap and counts matches and mismatches. The number of matches and mismatches can be used to calculate the percent identity between two aligned sequences (# matches/ # matches + # mismatches)."
   ]
  },
  {
   "cell_type": "code",
   "execution_count": 376,
   "metadata": {},
   "outputs": [
    {
     "name": "stdout",
     "output_type": "stream",
     "text": [
      "Matches: 66\n",
      "Mismatches: 184\n"
     ]
    }
   ],
   "source": [
    "match = 0\n",
    "mismatch = 0\n",
    "for p1, p2 in znf_msa.loc[['KLF1', 'YY1']].iter_positions():\n",
    "    if str(p1) == '-' or str(p2) == '-':\n",
    "        continue\n",
    "    elif str(p1) == str(p2):\n",
    "        match += 1\n",
    "    else:\n",
    "        mismatch += 1\n",
    "print(\"Matches: {}\\nMismatches: {}\".format(match, mismatch))"
   ]
  },
  {
   "cell_type": "markdown",
   "metadata": {},
   "source": [
    "Complete the function `create_msa_dist_matrix` below. This function should start by creating a new distance matrix using your `init_distance_matrix` function from **Task 1**, then fill each cell of the distance matrix with the fraction of non-gap-containing columns with mismatches (or one minus the percent identity) for each pair of sequences in the multiple alignment. As a guide, try generalising the code above."
   ]
  },
  {
   "cell_type": "code",
   "execution_count": 411,
   "metadata": {
    "collapsed": true
   },
   "outputs": [],
   "source": [
    "# ~~ GRADED CELL (2 marks) - complete this cell ~~\n",
    "\n",
    "def create_msa_dist_matrix(seqs, msa):\n",
    "    \"\"\"\n",
    "    Take in a dict sequences where keys are sequence names and values are sequences, \n",
    "    and a multiple sequence alignment object znf_msa.\n",
    "    Return a dict representing a distance matrix, where the values in the distance\n",
    "    matrix represent the percent identity between the sequences - i.e. the fraction\n",
    "    of mismatches out of all matches and mismatches.\n",
    "    \"\"\"\n",
    "    ### YOUR CODE HERE - fill in this function\n",
    "    dist = init_distance_matrix(seqs.keys())\n",
    "    for outer_idx, outer_key in enumerate(dist):\n",
    "        for inner_idx, inner_key in enumerate(dist[outer_key]):\n",
    "            if outer_idx == inner_idx:\n",
    "                # a gene has 0 distance to itself\n",
    "                dist[outer_key][inner_key] = 0\n",
    "            elif outer_idx < inner_idx:\n",
    "                # generate upper half of the matrix using MSA\n",
    "                match = 0\n",
    "                mismatch = 0\n",
    "                # reuse the previous code to calculate the numbers of matches and mismatches\n",
    "                for p1, p2 in msa.loc[[outer_key, inner_key]].iter_positions():\n",
    "                    if str(p1) == '-' or str(p2) == '-':\n",
    "                        continue\n",
    "                    elif str(p1) == str(p2):\n",
    "                        match += 1\n",
    "                    else:\n",
    "                        mismatch += 1\n",
    "                if match + mismatch != 0:\n",
    "                    dist[outer_key][inner_key] = mismatch / (match + mismatch)\n",
    "            else:\n",
    "                # transpose the matrix since it is symmetric\n",
    "                dist[outer_key][inner_key] = dist[inner_key][outer_key]\n",
    "                \n",
    "    return dist"
   ]
  },
  {
   "cell_type": "markdown",
   "metadata": {},
   "source": [
    "When you have implemented `create_msa_dist_matrix` correctly, the following will create and print the filled-out percent-identity matrix:"
   ]
  },
  {
   "cell_type": "code",
   "execution_count": 412,
   "metadata": {
    "collapsed": true
   },
   "outputs": [
    {
     "name": "stdout",
     "output_type": "stream",
     "text": [
      "                KLF1      KLF3      KLF7       SP1       SP4       SP8       YY1\n",
      "KLF1         0.00000   0.64706   0.64552   0.66667   0.69112   0.64655   0.73600\n",
      "KLF3         0.64706   0.00000   0.61131   0.72245   0.74903   0.68372   0.73745\n",
      "KLF7         0.64552   0.61131   0.00000   0.66667   0.68398   0.64362   0.78475\n",
      "SP1          0.66667   0.72245   0.66667   0.00000   0.57642   0.65753   0.78146\n",
      "SP4          0.69112   0.74903   0.68398   0.57642   0.00000   0.64853   0.76453\n",
      "SP8          0.64655   0.68372   0.64362   0.65753   0.64853   0.00000   0.76471\n",
      "YY1          0.73600   0.73745   0.78475   0.78146   0.76453   0.76471   0.00000\n"
     ]
    }
   ],
   "source": [
    "dist_msa = create_msa_dist_matrix(sequences, znf_msa)\n",
    "print_distance_matrix(dist_msa)"
   ]
  },
  {
   "cell_type": "markdown",
   "metadata": {},
   "source": [
    "Test that your function produces the correct results on the toy sequences below. The below code should print\n",
    "\n",
    "                   GeneA     GeneB     GeneC\n",
    "    GeneA        0.00000   0.16667   0.71429\n",
    "    GeneB        0.16667   0.00000   0.50000\n",
    "    GeneC        0.71429   0.50000   0.00000"
   ]
  },
  {
   "cell_type": "code",
   "execution_count": 413,
   "metadata": {
    "collapsed": true
   },
   "outputs": [
    {
     "name": "stdout",
     "output_type": "stream",
     "text": [
      "               GeneA     GeneB     GeneC\n",
      "GeneA        0.00000   0.16667   0.71429\n",
      "GeneB        0.16667   0.00000   0.50000\n",
      "GeneC        0.71429   0.50000   0.00000\n"
     ]
    }
   ],
   "source": [
    "test_sequences = {'GeneA': skbio.DNA('GATTACA'), 'GeneB': skbio.DNA('GTTACAT'), 'GeneC':skbio.DNA('AGCTATG')}\n",
    "test_multiple_alignment_output = \"\"\"CLUSTAL O(1.2.4) multiple sequence alignment\n",
    "\n",
    "\n",
    "GeneA      GATTACA-\t7\n",
    "GeneB      -GTTACAT\t7\n",
    "GeneC      AGCTATG-\t7\"\"\"\n",
    "test_msa = skbio.TabularMSA.read(StringIO(test_multiple_alignment_output), constructor=skbio.DNA)\n",
    "test_msa_dist = create_msa_dist_matrix(test_sequences, test_msa)\n",
    "print_distance_matrix(test_msa_dist)"
   ]
  },
  {
   "cell_type": "markdown",
   "metadata": {},
   "source": [
    "#### Task 4 - Question 1\n",
    "Do you expect the distance matrices for MSA and SSW to be similar? Why or why not? (max 50 words)\n",
    "\n",
    "Write your answer in the markdown cell below."
   ]
  },
  {
   "cell_type": "markdown",
   "metadata": {},
   "source": [
    "~~ GRADED CELL (3 marks) - complete this cell ~~\n",
    "\n",
    "*Your answer here*<br>\n",
    "They are not expected to be similar, both are trying to compare the proportion of the same nucleobase sequences out of the whole though. SSW compares the local distance which attempts to find out the overlaps starting from the different positions. Meanwhile, MSA compares the global distance from the beginning."
   ]
  },
  {
   "cell_type": "markdown",
   "metadata": {},
   "source": [
    "### Task 5 - k-mer distances\n",
    "The k-mer distance between two sequences is the fraction of k-mers that are unique to either sequence. Write a function that calculates a dictionary of k-mers (for `k` = any number) and their counts for each gene sequence. We will not use the counts to calculate the distance but they are useful for other applications.\n",
    "\n",
    "Be sure to test your function with a short example sequence you can work by hand."
   ]
  },
  {
   "cell_type": "code",
   "execution_count": 414,
   "metadata": {
    "collapsed": true
   },
   "outputs": [],
   "source": [
    "# ~~ GRADED CELL (2 marks) - complete this cell ~~\n",
    "\n",
    "def count_kmers(seq, k):\n",
    "    \"\"\"\n",
    "    Take in a sequence and a value k.\n",
    "    Return all kmers of length k in the form of a dict\n",
    "    with k-mer strings as keys and counts as values.\n",
    "    \"\"\"\n",
    "    ### YOUR CODE HERE - fill in this function\n",
    "    kmer_dict = dict()\n",
    "    \n",
    "    # k must not be larger than the sequence length\n",
    "    if k <= len(seq):\n",
    "        n = 0\n",
    "        while n < len(seq) - k + 1:\n",
    "            # slide the window of size k\n",
    "            kmer = seq[n:n+k]\n",
    "            if kmer in kmer_dict.keys():\n",
    "                # add 1 to the value of the same existing key\n",
    "                kmer_dict[kmer] += 1\n",
    "            else:\n",
    "                # init a new key\n",
    "                kmer_dict[kmer] = 1\n",
    "            \n",
    "            n += 1\n",
    "    \n",
    "    return kmer_dict"
   ]
  },
  {
   "cell_type": "markdown",
   "metadata": {},
   "source": [
    "When you have implemented `count_kmers` correctly, the following tests should give the right results:"
   ]
  },
  {
   "cell_type": "code",
   "execution_count": 415,
   "metadata": {
    "collapsed": true
   },
   "outputs": [
    {
     "data": {
      "text/plain": [
       "{'GTA': 2, 'TAA': 1, 'AAG': 1, 'AGT': 1}"
      ]
     },
     "execution_count": 415,
     "metadata": {},
     "output_type": "execute_result"
    }
   ],
   "source": [
    "# Should give: {'GTA': 2, 'TAA': 1, 'AAG': 1, 'AGT': 1}\n",
    "count_kmers('GTAAGTA', 3)"
   ]
  },
  {
   "cell_type": "code",
   "execution_count": 416,
   "metadata": {
    "collapsed": true
   },
   "outputs": [
    {
     "data": {
      "text/plain": [
       "{'GTA': 2, 'TAG': 1, 'AGT': 1, 'TAA': 1}"
      ]
     },
     "execution_count": 416,
     "metadata": {},
     "output_type": "execute_result"
    }
   ],
   "source": [
    "# Should give: {'GTA': 2, 'TAG': 1, 'AGT': 1, 'TAA': 1}\n",
    "count_kmers('GTAGTAA', 3)"
   ]
  },
  {
   "cell_type": "code",
   "execution_count": 417,
   "metadata": {
    "collapsed": true
   },
   "outputs": [
    {
     "data": {
      "text/plain": [
       "{'GT': 2, 'TA': 2, 'AG': 1, 'AA': 1}"
      ]
     },
     "execution_count": 417,
     "metadata": {},
     "output_type": "execute_result"
    }
   ],
   "source": [
    "# Should give: {'GT': 2, 'TA': 2, 'AG': 1, 'AA': 1}\n",
    "count_kmers('GTAGTAA', 2)"
   ]
  },
  {
   "cell_type": "markdown",
   "metadata": {},
   "source": [
    "Write a function `count_kmers_for_sequences` that uses your previous function to count k-mers for all sequences in a dictionary like `sequences`. It should return a new dictionary with gene names as keys and k-mer dictionaries as values."
   ]
  },
  {
   "cell_type": "code",
   "execution_count": 418,
   "metadata": {
    "collapsed": true
   },
   "outputs": [],
   "source": [
    "# ~~ GRADED CELL (2 marks) - complete this cell ~~\n",
    "\n",
    "def count_kmers_for_sequences(seqs, k):\n",
    "    \"\"\"\n",
    "    Given a dict of sequences, build a dict of the kmer counts for each\n",
    "    sequence. Keys should be sequence names, and values should be kmer count\n",
    "    dicts (where keys are kmers and values are counts).\n",
    "    \"\"\"\n",
    "    ### YOUR CODE HERE - fill in this function\n",
    "    seq_kmer_dict = dict()\n",
    "    for key in seqs:\n",
    "        # convert DNA Sequence to String\n",
    "        seqs_str = skbio.sequence.DNA.__str__(seqs[key])\n",
    "        # construct a new dict with the kmer numbers\n",
    "        seq_kmer_dict[key] = count_kmers(seqs_str, k)\n",
    "    \n",
    "    return seq_kmer_dict"
   ]
  },
  {
   "cell_type": "markdown",
   "metadata": {},
   "source": [
    "The below code creates the kmer_counts dict, storing all kmer counts for each sequence. \n",
    "\n",
    "It then prints the name of each gene, the number of unique k-mers in each gene and the gene length, one gene per line separated by a tab. If your implementation of `count_kmers_for_sequences` is correct, it should produce the output\n",
    "\n",
    "**These numbers have been corrected** \n",
    "    \n",
    "    KLF1\t1111\t1645\n",
    "    KLF3\t2633\t5594\n",
    "    KLF7\t3044\t8365\n",
    "    YY1\t 2858\t6534\n",
    "    SP1\t 2756\t7536\n",
    "    SP4\t 2522\t6077\n",
    "    SP8\t 2012\t3626\n"
   ]
  },
  {
   "cell_type": "code",
   "execution_count": 419,
   "metadata": {
    "collapsed": true
   },
   "outputs": [
    {
     "name": "stdout",
     "output_type": "stream",
     "text": [
      "KLF1\t1111\t1645\n",
      "KLF3\t2633\t5594\n",
      "KLF7\t3044\t8365\n",
      "YY1\t2858\t6534\n",
      "SP1\t2756\t7536\n",
      "SP4\t2522\t6077\n",
      "SP8\t2012\t3626\n"
     ]
    }
   ],
   "source": [
    "kmer_counts = count_kmers_for_sequences(sequences, k=6)\n",
    "\n",
    "for key in kmer_counts.keys():\n",
    "    print(key, len(kmer_counts[key]), len(sequences[key]), sep='\\t')"
   ]
  },
  {
   "cell_type": "markdown",
   "metadata": {},
   "source": [
    "#### Task 5 - Question 1\n",
    "How well correlated are the unique k-mer counts and the gene lengths? What does this suggest about the sequences? (max 50 words)\n",
    "\n",
    "Write your answer in the markdown cell below."
   ]
  },
  {
   "cell_type": "markdown",
   "metadata": {},
   "source": [
    "~~ GRADED CELL (3 marks) - complete this cell ~~\n",
    "\n",
    "*Your answer here*<br>\n",
    "In general, the longer the gene is, the more unique k-mers it has (positive correlation). However, this is not always the case since a sequence may have a number of repeated segments whose k-mers are not unique. This implies the sequence becomes more and more unique as it goes longer."
   ]
  },
  {
   "cell_type": "markdown",
   "metadata": {},
   "source": [
    "Now write a function to calculate the k-mer distance between a pair of genes given their k-mer count dictionaries. Recall that the k-mer distance is the fraction of k-mers that are unique to one of the sequences. You may find the Python `set` structure useful."
   ]
  },
  {
   "cell_type": "code",
   "execution_count": 420,
   "metadata": {
    "collapsed": true
   },
   "outputs": [],
   "source": [
    "# ~~ GRADED CELL (2 marks) - complete this cell ~~\n",
    "\n",
    "def kmer_distance(k1, k2):\n",
    "    \"\"\"\n",
    "    Given two k-mer count dictionaries, calculate the k-mer distance between these two sets of kmers.\n",
    "    The counts themselves are not used. Return a floating-point number for the distance.\n",
    "    \"\"\"\n",
    "    ### YOUR CODE HERE - fill in this function\n",
    "    total_kmer = 0\n",
    "    identical_kmer = 0\n",
    "    dist = None\n",
    "    \n",
    "    # counts dict must not be both empty\n",
    "    if len(k1) > 0 or len(k2) > 0:\n",
    "        # simply count the total kmers in 2 dicts\n",
    "        total_kmer = len(k1) + len(k2)\n",
    "\n",
    "        for kmer_1 in k1:\n",
    "            for kmer_2 in k2:\n",
    "                if kmer_1 == kmer_2:\n",
    "                    identical_kmer += 1\n",
    "\n",
    "        # calculate all the unique kmers\n",
    "        unique_kmer = total_kmer - identical_kmer\n",
    "        # \"unique_kmer - identical_kmer\" are the counts of the distinct kmers\n",
    "        dist = (unique_kmer - identical_kmer) / unique_kmer\n",
    "    \n",
    "    return dist"
   ]
  },
  {
   "cell_type": "markdown",
   "metadata": {},
   "source": [
    "When you have implemented the `kmer_distance` function correctly, this test should give the right result:"
   ]
  },
  {
   "cell_type": "code",
   "execution_count": 421,
   "metadata": {},
   "outputs": [
    {
     "data": {
      "text/plain": [
       "0.4"
      ]
     },
     "execution_count": 421,
     "metadata": {},
     "output_type": "execute_result"
    }
   ],
   "source": [
    "# Should give: 0.4\n",
    "test_counts_1 = {'GTA': 2, 'TAA': 1, 'AAG': 1, 'AGT': 1} \n",
    "test_counts_2 = {'GTA': 2, 'TAG': 1, 'AGT': 1, 'TAA': 1} \n",
    "kmer_distance(test_counts_1, test_counts_2)"
   ]
  },
  {
   "cell_type": "markdown",
   "metadata": {},
   "source": [
    "Complete the function `create_kmer_dist_matrix` below. This function should create a new distance matrix containining k-mer distances. The matrix, as before, should be returned as a dict of dicts. Use your `kmer_distance` function and your `init_distance_matrix` function."
   ]
  },
  {
   "cell_type": "code",
   "execution_count": 422,
   "metadata": {
    "collapsed": true
   },
   "outputs": [],
   "source": [
    "# ~~ GRADED CELL (2 marks) - complete this cell ~~\n",
    "\n",
    "def create_kmer_dist_matrix(counts):\n",
    "    \"\"\"\n",
    "    Take in a kmer counts dict, where keys are gene names and values are\n",
    "    dicts of kmer counts (i.e. kmers as keys and counts as values). \n",
    "    Return a kmer distance matrix in the form of a dict of dicts of distances.\n",
    "    \"\"\"\n",
    "    ### YOUR CODE HERE - fill in this function\n",
    "    dist = init_distance_matrix(counts.keys())\n",
    "    for outer_idx, outer_key in enumerate(dist):\n",
    "        for inner_idx, inner_key in enumerate(dist[outer_key]):\n",
    "            if outer_idx == inner_idx:\n",
    "                # a gene has 0 distance to itself\n",
    "                dist[outer_key][inner_key] = 0\n",
    "            elif outer_idx < inner_idx:\n",
    "                # calculate the upper half of the dict using self-coded k-mer distance\n",
    "                dist[outer_key][inner_key] = kmer_distance(counts[outer_key], counts[inner_key])\n",
    "            else:\n",
    "                # transpose the matrix since it is symmetric\n",
    "                dist[outer_key][inner_key] = dist[inner_key][outer_key]\n",
    "                \n",
    "    return dist"
   ]
  },
  {
   "cell_type": "code",
   "execution_count": 423,
   "metadata": {
    "collapsed": true
   },
   "outputs": [
    {
     "name": "stdout",
     "output_type": "stream",
     "text": [
      "                KLF1      KLF3      KLF7       SP1       SP4       SP8       YY1\n",
      "KLF1         0.00000   0.76517   0.74585   0.75659   0.78169   0.72687   0.73073\n",
      "KLF3         0.76517   0.00000   0.39087   0.36845   0.41385   0.57951   0.40656\n",
      "KLF7         0.74585   0.39087   0.00000   0.32997   0.38056   0.53661   0.36010\n",
      "SP1          0.75659   0.36845   0.32997   0.00000   0.36594   0.56602   0.36707\n",
      "SP4          0.78169   0.41385   0.38056   0.36594   0.00000   0.60191   0.41858\n",
      "SP8          0.72687   0.57951   0.53661   0.56602   0.60191   0.00000   0.54148\n",
      "YY1          0.73073   0.40656   0.36010   0.36707   0.41858   0.54148   0.00000\n"
     ]
    }
   ],
   "source": [
    "dist_kmer = create_kmer_dist_matrix(kmer_counts)\n",
    "print_distance_matrix(dist_kmer)"
   ]
  },
  {
   "cell_type": "markdown",
   "metadata": {},
   "source": [
    "If you've implemented `create_kmer_dist_matrix` correctly, the following test case should display\n",
    "\n",
    "                   GeneA     GeneB\n",
    "    GeneA        0.00000   0.40000\n",
    "    GeneB        0.40000   0.00000"
   ]
  },
  {
   "cell_type": "code",
   "execution_count": 424,
   "metadata": {
    "collapsed": true
   },
   "outputs": [
    {
     "name": "stdout",
     "output_type": "stream",
     "text": [
      "               GeneA     GeneB\n",
      "GeneA        0.00000   0.40000\n",
      "GeneB        0.40000   0.00000\n"
     ]
    }
   ],
   "source": [
    "test_counts = {'GeneA': {'GTA': 2, 'TAA': 1, 'AAG': 1, 'AGT': 1},\n",
    "               'GeneB': {'GTA': 2, 'TAG': 1, 'AGT': 1, 'TAA': 1}} \n",
    "test_kmer_dist_matrix = create_kmer_dist_matrix(test_counts)\n",
    "print_distance_matrix(test_kmer_dist_matrix)"
   ]
  },
  {
   "cell_type": "markdown",
   "metadata": {},
   "source": [
    "Check your implementation by completing the `create_kmer_dist_matrix_skbio` function below. It is very similar to the function above, but in this case you build a distance matrix by calculating k-mer distance using `skbio.sequence.distance.kmer_distance()`. The library function takes as input two sequences (from your `sequences` dictionary) and a value for `k`."
   ]
  },
  {
   "cell_type": "code",
   "execution_count": 425,
   "metadata": {
    "collapsed": true
   },
   "outputs": [],
   "source": [
    "# ~~ GRADED CELL (2 marks) - complete this cell ~~\n",
    "\n",
    "def create_kmer_dist_matrix_skbio(seqs):\n",
    "    \"\"\"\n",
    "    Take in a kmer counts dict, where keys are gene names and values are\n",
    "    dicts of kmer counts (i.e. kmers as keys and counts as values). \n",
    "    Return a kmer distance matrix in the form of a dict of dicts of distances.\n",
    "    \n",
    "    Use skbio.sequence.distance.kmer_distance() to calculate distances for each cell.\n",
    "    \"\"\"\n",
    "    ### YOUR CODE HERE - fill in this function\n",
    "    k = 6\n",
    "    dist = init_distance_matrix(seqs.keys())\n",
    "    for outer_idx, outer_key in enumerate(dist):\n",
    "        for inner_idx, inner_key in enumerate(dist[outer_key]):\n",
    "            if outer_idx == inner_idx:\n",
    "                # a gene has 0 distance to itself\n",
    "                dist[outer_key][inner_key] = 0\n",
    "            elif outer_idx < inner_idx:\n",
    "                # calculate the upper half of the dict using skbio k-mer distance\n",
    "                dist[outer_key][inner_key] = skbio.sequence.distance.kmer_distance(seqs[outer_key], seqs[inner_key], k)\n",
    "            else:\n",
    "                # transpose the matrix since it is symmetric\n",
    "                dist[outer_key][inner_key] = dist[inner_key][outer_key]\n",
    "                \n",
    "    return dist"
   ]
  },
  {
   "cell_type": "code",
   "execution_count": 426,
   "metadata": {
    "collapsed": true
   },
   "outputs": [
    {
     "name": "stdout",
     "output_type": "stream",
     "text": [
      "                KLF1      KLF3      KLF7       SP1       SP4       SP8       YY1\n",
      "KLF1         0.00000   0.76517   0.74585   0.75659   0.78169   0.72687   0.73073\n",
      "KLF3         0.76517   0.00000   0.39087   0.36845   0.41385   0.57951   0.40656\n",
      "KLF7         0.74585   0.39087   0.00000   0.32997   0.38056   0.53661   0.36010\n",
      "SP1          0.75659   0.36845   0.32997   0.00000   0.36594   0.56602   0.36707\n",
      "SP4          0.78169   0.41385   0.38056   0.36594   0.00000   0.60191   0.41858\n",
      "SP8          0.72687   0.57951   0.53661   0.56602   0.60191   0.00000   0.54148\n",
      "YY1          0.73073   0.40656   0.36010   0.36707   0.41858   0.54148   0.00000\n"
     ]
    }
   ],
   "source": [
    "dist_kmer_lib = create_kmer_dist_matrix_skbio(sequences)\n",
    "print_distance_matrix(dist_kmer_lib)"
   ]
  },
  {
   "cell_type": "markdown",
   "metadata": {},
   "source": [
    "### Task 6 - Building trees with UPGMA\n",
    "In this section you will implement the UPGMA algorithm to create ultrameric trees as described in lectures. You will output the trees in Newick format and import those Newick strings into an `skbio` library function to draw the trees as ASCII art.\n",
    "\n",
    "To implement UPGMA, you should split the process into computable steps, write a function for each step and then use the functions to build your tree."
   ]
  },
  {
   "cell_type": "markdown",
   "metadata": {},
   "source": [
    "The first step of the UPGMA algorithm is finding the minimum distance in the matrix. Write a function `minimum_distance` that takes a distance matrix and returns a tuple with the distance and the two node names corresponding to the minimum distance."
   ]
  },
  {
   "cell_type": "code",
   "execution_count": 427,
   "metadata": {
    "collapsed": true
   },
   "outputs": [],
   "source": [
    "# ~~ GRADED CELL (2 marks) - complete this cell ~~\n",
    "\n",
    "def minimum_distance(dist):\n",
    "    \"\"\"\n",
    "    Find and return a tuple containing the minimum distance\n",
    "    in the distance matrix and the nodes names corresponding \n",
    "    to the minimum.\n",
    "    \"\"\"\n",
    "    ### YOUR CODE HERE - fill in this function\n",
    "    min_val = None\n",
    "    gene_1 = None\n",
    "    gene_2 = None\n",
    "    \n",
    "    # the dict size must be larger than 1\n",
    "    if len(dist) > 1:\n",
    "        # construct an iteration of the input dict\n",
    "        dist_iter = iter(dist)\n",
    "        # get the first 2 keys of the dict\n",
    "        gene_1 = next(dist_iter)\n",
    "        gene_2 = next(dist_iter)\n",
    "        # assume the nodes with the first 2 keys have the minimum distance\n",
    "        min_val = dist[gene_1][gene_2]\n",
    "\n",
    "        for outer_idx, outer_key in enumerate(dist):\n",
    "            for inner_idx, inner_key in enumerate(dist[outer_key]):\n",
    "                # we just need to compare the upper half of the dict since it is symmetric\n",
    "                if outer_idx < inner_idx:\n",
    "                    if dist[outer_key][inner_key] < min_val:\n",
    "                        # assign min_val and gene names if there is a value smaller than the previous minimum\n",
    "                        min_val = dist[outer_key][inner_key]\n",
    "                        gene_1 = outer_key\n",
    "                        gene_2 = inner_key\n",
    "\n",
    "    return min_val, gene_1, gene_2"
   ]
  },
  {
   "cell_type": "markdown",
   "metadata": {},
   "source": [
    "When you have implemented `minimum_distance` correctly, the following tests should give the right result:"
   ]
  },
  {
   "cell_type": "code",
   "execution_count": 428,
   "metadata": {
    "collapsed": true
   },
   "outputs": [
    {
     "name": "stdout",
     "output_type": "stream",
     "text": [
      "(3.3, 'geneB', 'geneC')\n"
     ]
    }
   ],
   "source": [
    "# Should give: (3.3, 'geneB', 'geneC')\n",
    "test_dist = {'geneA': {'geneA':0, 'geneB':5, 'geneC':12},\n",
    "             'geneB': {'geneA':5, 'geneB':0, 'geneC':3.3},\n",
    "             'geneC': {'geneA':12, 'geneB':3.3, 'geneC':0}}\n",
    "print(minimum_distance(test_dist))"
   ]
  },
  {
   "cell_type": "code",
   "execution_count": 429,
   "metadata": {
    "collapsed": true
   },
   "outputs": [
    {
     "name": "stdout",
     "output_type": "stream",
     "text": [
      "(4.1, 'geneA', 'geneB')\n"
     ]
    }
   ],
   "source": [
    "# Should give: (4.1, 'geneA', 'geneB')\n",
    "test_dist = {'geneA': {'geneA':0, 'geneB':4.1, 'geneC':5},\n",
    "             'geneB': {'geneA':4.1, 'geneB':0, 'geneC':7.2},\n",
    "             'geneC': {'geneA':5, 'geneB':7.2, 'geneC':0}}\n",
    "print(minimum_distance(test_dist))"
   ]
  },
  {
   "cell_type": "markdown",
   "metadata": {},
   "source": [
    "Write another function `update_distances` that takes a distance matrix, the names of the nodes being combined, the name of the newly created node and a dictionary of node sizes and returns a new distance matrix with the result of merging and creating the new node."
   ]
  },
  {
   "cell_type": "code",
   "execution_count": 430,
   "metadata": {
    "collapsed": true
   },
   "outputs": [],
   "source": [
    "# ~~ GRADED CELL (2 marks) - complete this cell ~~\n",
    "\n",
    "def update_distances(dist, a, b, new_node, node_sizes):\n",
    "    \"\"\"\n",
    "    Take in:\n",
    "      dist : a distance matrix, structured as a dict of dicts of distances,\n",
    "             with node names as keys\n",
    "      a, b : names of nodes to merge\n",
    "      new_node : the name of the new node to create \n",
    "      node_sizes : a dict giving the weightings (cluster sizes) of existing nodes,\n",
    "                   with names as keys and sizes as values\n",
    "    Return the new distance matrix, which will contain a node new_node\n",
    "    and will not contain a or b.\n",
    "    \"\"\"\n",
    "    ### YOUR CODE HERE - fill in this function\n",
    "    # hard copy the dist dict since we want to modify the keys\n",
    "    dist_copy = dict.copy(dist)\n",
    "    # remove the 2 keys to be combined\n",
    "    dist_copy.pop(a, None)\n",
    "    dist_copy.pop(b, None)\n",
    "    # append the new key to be created and init the value to be None\n",
    "    dist_copy[new_node] = None\n",
    "\n",
    "    # init the new dict using the keys of the copied dict\n",
    "    new_dist = init_distance_matrix(dist_copy.keys())\n",
    "    for outer_idx, outer_key in enumerate(new_dist):\n",
    "        for inner_idx, inner_key in enumerate(new_dist[outer_key]):\n",
    "            if outer_idx == inner_idx:\n",
    "                # a gene has 0 distance to itself\n",
    "                new_dist[outer_key][inner_key] = 0\n",
    "            elif outer_idx < inner_idx:\n",
    "                ori_key = ''\n",
    "                if inner_key not in dist.keys():\n",
    "                    # the new key is inner_key (column) so the original key ori_key is outer_key\n",
    "                    ori_key = outer_key\n",
    "                    # calculate the new distance based on the weight of cluster sizes\n",
    "                    new_dist[outer_key][inner_key] = \\\n",
    "                    (dist[ori_key][a] * node_sizes[a] + dist[ori_key][b] * node_sizes[b]) / (node_sizes[a] + node_sizes[b])\n",
    "                elif outer_key not in dist.keys():\n",
    "                    # the new key is outer_key (row) so the original key ori_key is inner_key\n",
    "                    ori_key = inner_key\n",
    "                    # calculate the new distance based on the weight of cluster sizes\n",
    "                    new_dist[outer_key][inner_key] = \\\n",
    "                    (dist[ori_key][a] * node_sizes[a] + dist[ori_key][b] * node_sizes[b]) / (node_sizes[a] + node_sizes[b])\n",
    "                else:\n",
    "                    # there is no new key to be calculated so we just copy the value\n",
    "                    new_dist[outer_key][inner_key] = dist[outer_key][inner_key]\n",
    "            else:\n",
    "                # transpose the matrix since it is symmetric\n",
    "                new_dist[outer_key][inner_key] = new_dist[inner_key][outer_key]\n",
    "            \n",
    "    return new_dist"
   ]
  },
  {
   "cell_type": "markdown",
   "metadata": {},
   "source": [
    "Here are some test cases you can use in testing `update_distances`:\n",
    "\n",
    "The below cell should print \n",
    "\n",
    "                   geneC    nodeAB\n",
    "    geneC        0.00000   6.10000\n",
    "    nodeAB       6.10000   0.00000"
   ]
  },
  {
   "cell_type": "code",
   "execution_count": 431,
   "metadata": {
    "collapsed": true
   },
   "outputs": [
    {
     "name": "stdout",
     "output_type": "stream",
     "text": [
      "{'geneC': {'geneC': 0, 'nodeAB': 6.1}, 'nodeAB': {'geneC': 6.1, 'nodeAB': 0}}\n",
      "               geneC    nodeAB\n",
      "geneC        0.00000   6.10000\n",
      "nodeAB       6.10000   0.00000\n"
     ]
    }
   ],
   "source": [
    "# Should return {'geneC': {'geneC': 0, 'nodeAB': 6.1}, 'nodeAB': {'geneC': 6.1, 'nodeAB': 0.0}}, \n",
    "# and also print the test output as shown above\n",
    "test_dist = {'geneA': {'geneA':0, 'geneB':4.1, 'geneC':5},\n",
    "             'geneB': {'geneA':4.1, 'geneB':0, 'geneC':7.2},\n",
    "             'geneC': {'geneA':5, 'geneB':7.2, 'geneC':0}}\n",
    "test_sizes = {'geneA': 1, 'geneB': 1, 'geneC': 1}\n",
    "test_output = update_distances(test_dist, 'geneA', 'geneB', 'nodeAB', test_sizes)\n",
    "print(test_output)\n",
    "print_distance_matrix(test_output)"
   ]
  },
  {
   "cell_type": "markdown",
   "metadata": {},
   "source": [
    "The below cell should print \n",
    "\n",
    "                   geneC    nodeAB\n",
    "    geneC        0.00000   5.55000\n",
    "    nodeAB       5.55000   0.00000"
   ]
  },
  {
   "cell_type": "code",
   "execution_count": 432,
   "metadata": {
    "collapsed": true
   },
   "outputs": [
    {
     "name": "stdout",
     "output_type": "stream",
     "text": [
      "{'geneC': {'geneC': 0, 'nodeAB': 5.55}, 'nodeAB': {'geneC': 5.55, 'nodeAB': 0}}\n",
      "               geneC    nodeAB\n",
      "geneC        0.00000   5.55000\n",
      "nodeAB       5.55000   0.00000\n"
     ]
    }
   ],
   "source": [
    "# Should return {'geneC': {'geneC': 0, 'nodeAB': 5.55}, 'nodeAB': {'geneC': 5.55, 'nodeAB': 0.0}}, \n",
    "# and also print the test output as shown above\n",
    "test_dist = {'nodeA': {'nodeA':0, 'geneB':4.1, 'geneC':5},\n",
    "             'geneB': {'nodeA':4.1, 'geneB':0, 'geneC':7.2},\n",
    "             'geneC': {'nodeA':5, 'geneB':7.2, 'geneC':0}}\n",
    "test_sizes = {'nodeA': 3, 'geneB': 1, 'geneC': 1}\n",
    "test_output = update_distances(test_dist, 'nodeA', 'geneB', 'nodeAB', test_sizes)\n",
    "print(test_output)\n",
    "print_distance_matrix(test_output)"
   ]
  },
  {
   "cell_type": "markdown",
   "metadata": {},
   "source": [
    "Write a final function `upgma` that takes a distance matrix as input and returns a tree as a Newick formatted string.\n",
    "\n",
    "Because we want to output our tree in Newick format, you will need an additional dictionary of Newick strings for each node that gets created. You also need to keep track of the branch lengths. Recall that the $D_{ij}$ in the algorithm from lecture is the length to the tip not the internal branch length, but the Newick string expects the internal branch lengths."
   ]
  },
  {
   "cell_type": "code",
   "execution_count": 452,
   "metadata": {},
   "outputs": [],
   "source": [
    "# ~~ GRADED CELL (2 marks) - complete this cell ~~\n",
    "\n",
    "def upgma(dist):\n",
    "    \"\"\"\n",
    "    Build a UPGMA tree based on the given distance matrix\n",
    "    and return the tree as a string in Newick format.\n",
    "    \"\"\"\n",
    "    ### YOUR CODE HERE - fill in this function\n",
    "    # init final result string\n",
    "    upgma_str = ''\n",
    "    # init cluster size dict\n",
    "    node_sizes = dict()\n",
    "    # init internal branch length dict\n",
    "    node_int_dist = dict()\n",
    "    # init external branch length dict\n",
    "    node_ext_dist = dict()\n",
    "    # init Newick string dict to record the result string of each iteration\n",
    "    newick_str_dict = dict()\n",
    "    # init a reversed newick_str_dict to assemble the final result\n",
    "    rev_newick_str_dict = dict()\n",
    "    \n",
    "    # init the values in node_sizes to be all 1\n",
    "    for key in dist:\n",
    "        node_sizes[key] = 1\n",
    "    \n",
    "    # assign dist to be the dict of the first iteration\n",
    "    curr_dist = dist\n",
    "    i = 0\n",
    "    while i < len(dist) - 1:\n",
    "        # find the minimum distance and its nodes using the previous function\n",
    "        val, gene_1, gene_2 = minimum_distance(curr_dist)\n",
    "        \n",
    "        # for both nodes\n",
    "        for gene in [gene_1, gene_2]:\n",
    "            if node_sizes[gene] == 1:\n",
    "                # internal length is a half of the distance if the node has not been combined\n",
    "                node_int_dist[gene] = val / 2\n",
    "            else:\n",
    "                # init a filtered_dict to construct a dict that only contains its preceding nodes\n",
    "                filtered_dist = dict()\n",
    "                for dist_key in node_ext_dist:\n",
    "                    if dist_key in gene:\n",
    "                        filtered_dist[dist_key] = node_ext_dist[dist_key]\n",
    "                \n",
    "                # find the maximum \n",
    "                max_key = max(filtered_dist, key = filtered_dist.get)\n",
    "                \"\"\"internal length of a newly combined node is \n",
    "                a half of its distance subtract the maximum external length of \n",
    "                its preceding nodes\"\"\"\n",
    "                node_int_dist[gene] = val / 2 - filtered_dist[max_key]\n",
    "                \n",
    "            # calculate the external length\n",
    "            node_ext_dist[gene] = val / 2\n",
    "            \n",
    "        # update current dist for next iteration\n",
    "        curr_dist = update_distances(curr_dist, gene_1, gene_2, gene_1 + gene_2, node_sizes)\n",
    "        # update the weights and keys of node_sizes dict\n",
    "        node_sizes[gene_1 + gene_2] = node_sizes[gene_1] + node_sizes[gene_2]\n",
    "        node_sizes.pop(gene_1, None)\n",
    "        node_sizes.pop(gene_2, None)\n",
    "        \n",
    "        # format the Newick string of each iteration and store it in a dict\n",
    "        newick_str_dict[gene_1 + gene_2] = \\\n",
    "    \"({}:{},{}:{})\".format(gene_1, node_int_dist[gene_1], gene_2, node_int_dist[gene_2])\n",
    "            \n",
    "        i += 1\n",
    "    \n",
    "    # reverse newick_str_dict enabling the assembly outside-in\n",
    "    rev_newick_str_dict_keylist = list(newick_str_dict.keys())[::-1]\n",
    "    for key in rev_newick_str_dict_keylist:\n",
    "        rev_newick_str_dict[key] = newick_str_dict[key]\n",
    "    \n",
    "    # reversedly loop the newick_str_dict\n",
    "    for idx, key in enumerate(rev_newick_str_dict):\n",
    "        if idx == 0:\n",
    "            # assign the first Newick string to be the result from the last iteration\n",
    "            upgma_str = newick_str_dict[key]\n",
    "        else:\n",
    "            # always replace the key with the value from the previous combination of the same key\n",
    "            upgma_str = upgma_str.replace(key, newick_str_dict[key])\n",
    "            \n",
    "    # append a \";\" to the Newick string to finalise it\n",
    "    upgma_str += \";\"\n",
    "    \n",
    "    return upgma_str"
   ]
  },
  {
   "cell_type": "markdown",
   "metadata": {},
   "source": [
    "Here is a test case you can use to help you test your `upgma` solution:"
   ]
  },
  {
   "cell_type": "code",
   "execution_count": 453,
   "metadata": {
    "collapsed": true
   },
   "outputs": [
    {
     "data": {
      "text/plain": [
       "'(geneC:3.05,(geneA:2.05,geneB:2.05):1.0);'"
      ]
     },
     "execution_count": 453,
     "metadata": {},
     "output_type": "execute_result"
    }
   ],
   "source": [
    "# Should give: '(geneC:3.05,(geneA:2.05,geneB:2.05):1.0);'\n",
    "test_dist = {'geneA': {'geneA':0, 'geneB':4.1, 'geneC':5},\n",
    "             'geneB': {'geneA':4.1, 'geneB':0, 'geneC':7.2},\n",
    "             'geneC': {'geneA':5, 'geneB':7.2, 'geneC':0}}\n",
    "upgma(test_dist)"
   ]
  },
  {
   "cell_type": "markdown",
   "metadata": {},
   "source": [
    "Let's try UPGMA out using different distance measures. The following three blocks generate trees using your `upgma` function and print those trees to the console. There is one block per distance method."
   ]
  },
  {
   "cell_type": "code",
   "execution_count": 454,
   "metadata": {
    "collapsed": true
   },
   "outputs": [
    {
     "name": "stdout",
     "output_type": "stream",
     "text": [
      "Local alignment score distance, UPGMA\n",
      "\n",
      "((KLF3:0.005185532624557015,(KLF1:0.004166666666666667,KLF7:0.004166666666666667):0.0010188659578903485):0.007111236584955631,(YY1:0.011235893018838755,(SP8:0.005421401515151515,(SP1:0.002232142857142857,SP4:0.002232142857142857):0.0031892586580086583):0.00581449150368724):0.0010608761906738904);\n",
      "\n",
      "                    /-KLF3\n",
      "          /--------|\n",
      "         |         |          /-KLF1\n",
      "         |          \\--------|\n",
      "---------|                    \\-KLF7\n",
      "         |\n",
      "         |          /-YY1\n",
      "          \\--------|\n",
      "                   |          /-SP8\n",
      "                    \\--------|\n",
      "                             |          /-SP1\n",
      "                              \\--------|\n",
      "                                        \\-SP4\n"
     ]
    }
   ],
   "source": [
    "newick = upgma(dist_pairwise)\n",
    "t = skbio.io.read(StringIO(newick), format=\"newick\", into=skbio.tree.TreeNode)\n",
    "print(\"Local alignment score distance, UPGMA\")\n",
    "print()\n",
    "print(newick)\n",
    "print()\n",
    "print(t.ascii_art())"
   ]
  },
  {
   "cell_type": "code",
   "execution_count": 455,
   "metadata": {
    "collapsed": true
   },
   "outputs": [
    {
     "name": "stdout",
     "output_type": "stream",
     "text": [
      "Multiple sequence alignment percent identity distance, UPGMA\n",
      "\n",
      "(YY1:0.38074116087996285,((KLF1:0.32314530289727833,(KLF3:0.30565371024734983,KLF7:0.30565371024734983):0.0174915926499285):0.018732981142131566,(SP8:0.326515080918212,(SP1:0.28820960698689957,SP4:0.28820960698689957):0.03830547393131245):0.015363203121197877):0.03886287684055295);\n",
      "\n",
      "\n",
      "          /-YY1\n",
      "         |\n",
      "         |                    /-KLF1\n",
      "---------|          /--------|\n",
      "         |         |         |          /-KLF3\n",
      "         |         |          \\--------|\n",
      "          \\--------|                    \\-KLF7\n",
      "                   |\n",
      "                   |          /-SP8\n",
      "                    \\--------|\n",
      "                             |          /-SP1\n",
      "                              \\--------|\n",
      "                                        \\-SP4\n"
     ]
    }
   ],
   "source": [
    "newick = upgma(dist_msa)\n",
    "t = skbio.io.read(StringIO(newick), format=\"newick\", into=skbio.tree.TreeNode)\n",
    "print(\"Multiple sequence alignment percent identity distance, UPGMA\")\n",
    "print()\n",
    "print(t)\n",
    "print()\n",
    "print(t.ascii_art())"
   ]
  },
  {
   "cell_type": "code",
   "execution_count": 456,
   "metadata": {
    "collapsed": true
   },
   "outputs": [
    {
     "name": "stdout",
     "output_type": "stream",
     "text": [
      "K-mer distance, UPGMA\n",
      "\n",
      "(KLF1:0.3755750301864033,(SP8:0.28255306393592583,(KLF3:0.19746630247530178,(SP4:0.19418100427492976,(YY1:0.18179347698709536,(KLF7:0.16498704290238986,SP1:0.16498704290238986):0.0168064340847055):0.012387527287834404):0.0032852982003720166):0.08508676146062405):0.09302196625047748);\n",
      "\n",
      "\n",
      "          /-KLF1\n",
      "---------|\n",
      "         |          /-SP8\n",
      "          \\--------|\n",
      "                   |          /-KLF3\n",
      "                    \\--------|\n",
      "                             |          /-SP4\n",
      "                              \\--------|\n",
      "                                       |          /-YY1\n",
      "                                        \\--------|\n",
      "                                                 |          /-KLF7\n",
      "                                                  \\--------|\n",
      "                                                            \\-SP1\n"
     ]
    }
   ],
   "source": [
    "newick = upgma(dist_kmer)\n",
    "t = skbio.io.read(StringIO(newick), format=\"newick\", into=skbio.tree.TreeNode)\n",
    "print(\"K-mer distance, UPGMA\")\n",
    "print()\n",
    "print(t)\n",
    "print()\n",
    "print(t.ascii_art())"
   ]
  },
  {
   "cell_type": "markdown",
   "metadata": {},
   "source": [
    "#### Task 6 - Question 1\n",
    "Why are the trees different? (max 50 words)\n",
    "\n",
    "Write your answer in the markdown cell below."
   ]
  },
  {
   "cell_type": "markdown",
   "metadata": {},
   "source": [
    "~~ GRADED CELL (3 marks) - complete this cell ~~\n",
    "\n",
    "*Your answer here*<br>\n",
    "Because the Newick strings are distinct. The strings are generated with UPGMA algorithm according to the input distance matrix, calculated based on different algorithms, resulting in different distance values. Since UPGMA searches for the nodes with minimum distance and combines them iteratively, different minimum values may result in distinct combinations."
   ]
  },
  {
   "cell_type": "markdown",
   "metadata": {},
   "source": [
    "### Task 7 - Building trees with neighbor joining\n",
    "In this section you will use the `skbio` implementation of the neighbor joining algorithm to build trees and visualize them as in the previous section."
   ]
  },
  {
   "cell_type": "markdown",
   "metadata": {},
   "source": [
    "The following code converts a dictionary-based distance matrix to a `DistanceMatrix` object suitable for the `skbio` neighbor joining implementation."
   ]
  },
  {
   "cell_type": "code",
   "execution_count": 438,
   "metadata": {
    "collapsed": true
   },
   "outputs": [],
   "source": [
    "def convert_distance_matrix(dist):\n",
    "    genes = sorted(dist.keys())\n",
    "    dist_lists = list()\n",
    "\n",
    "    for key1 in genes:\n",
    "        a = list()\n",
    "        for key2 in genes:\n",
    "            a.append(dist[key1][key2])\n",
    "        dist_lists.append(a)\n",
    "        \n",
    "    return skbio.DistanceMatrix(dist_lists, genes)"
   ]
  },
  {
   "cell_type": "markdown",
   "metadata": {},
   "source": [
    "The following three blocks generate trees using the `skbio` neighbor joining implementation and print those trees to the console. There is one block per distance method."
   ]
  },
  {
   "cell_type": "code",
   "execution_count": 439,
   "metadata": {
    "collapsed": true
   },
   "outputs": [
    {
     "name": "stdout",
     "output_type": "stream",
     "text": [
      "Local alignment score distance, NJ\n",
      "\n",
      "((SP4:0.003585,SP1:0.000879):0.006023,(YY1:0.011673,(KLF1:0.000791,(KLF7:0.00197,KLF3:0.006577):0.0052):0.007063):0.004389,SP8:0.002588);\n",
      "\n",
      "\n",
      "                    /-SP4\n",
      "          /--------|\n",
      "         |          \\-SP1\n",
      "         |\n",
      "         |          /-YY1\n",
      "         |---------|\n",
      "---------|         |          /-KLF1\n",
      "         |          \\--------|\n",
      "         |                   |          /-KLF7\n",
      "         |                    \\--------|\n",
      "         |                              \\-KLF3\n",
      "         |\n",
      "          \\-SP8\n"
     ]
    }
   ],
   "source": [
    "m = convert_distance_matrix(dist_pairwise)\n",
    "t = skbio.tree.nj(m)\n",
    "print(\"Local alignment score distance, NJ\")\n",
    "print()\n",
    "print(t)\n",
    "print()\n",
    "print(t.ascii_art())"
   ]
  },
  {
   "cell_type": "code",
   "execution_count": 440,
   "metadata": {
    "collapsed": true
   },
   "outputs": [
    {
     "name": "stdout",
     "output_type": "stream",
     "text": [
      "Multiple sequence alignment percent identity distance, NJ\n",
      "\n",
      "((SP8:0.312767,(SP4:0.292451,SP1:0.283968):0.052054):0.020465,(KLF1:0.3114,(KLF7:0.298809,KLF3:0.312498):0.029237):0.003537,YY1:0.421869);\n",
      "\n",
      "\n",
      "                    /-SP8\n",
      "          /--------|\n",
      "         |         |          /-SP4\n",
      "         |          \\--------|\n",
      "         |                    \\-SP1\n",
      "         |\n",
      "---------|          /-KLF1\n",
      "         |---------|\n",
      "         |         |          /-KLF7\n",
      "         |          \\--------|\n",
      "         |                    \\-KLF3\n",
      "         |\n",
      "          \\-YY1\n"
     ]
    }
   ],
   "source": [
    "m = convert_distance_matrix(dist_msa)\n",
    "t = skbio.tree.nj(m)\n",
    "print(\"Multiple sequence alignment percent identity distance, NJ\")\n",
    "print()\n",
    "print(t)\n",
    "print()\n",
    "print(t.ascii_art())"
   ]
  },
  {
   "cell_type": "code",
   "execution_count": 441,
   "metadata": {
    "collapsed": true
   },
   "outputs": [
    {
     "name": "stdout",
     "output_type": "stream",
     "text": [
      "K-mer distance, NJ\n",
      "\n",
      "(SP1:0.160175,(KLF3:0.205666,(KLF7:0.165764,(YY1:0.178757,(SP8:0.267982,KLF1:0.458883):0.093916):0.016849):0.009163):0.002511,SP4:0.205769);\n",
      "\n",
      "\n",
      "          /-SP1\n",
      "         |\n",
      "         |          /-KLF3\n",
      "         |---------|\n",
      "         |         |          /-KLF7\n",
      "         |          \\--------|\n",
      "---------|                   |          /-YY1\n",
      "         |                    \\--------|\n",
      "         |                             |          /-SP8\n",
      "         |                              \\--------|\n",
      "         |                                        \\-KLF1\n",
      "         |\n",
      "          \\-SP4\n"
     ]
    }
   ],
   "source": [
    "m = convert_distance_matrix(dist_kmer)\n",
    "t = skbio.tree.nj(m)\n",
    "print(\"K-mer distance, NJ\")\n",
    "print()\n",
    "print(t)\n",
    "print()\n",
    "print(t.ascii_art())"
   ]
  },
  {
   "cell_type": "markdown",
   "metadata": {},
   "source": [
    "#### Task 7 - Question 1\n",
    "Based on all the trees you've generated, which distance method do you think is the best and why? (max 100 words)\n",
    "\n",
    "Write your answer in the markdown cell below."
   ]
  },
  {
   "cell_type": "markdown",
   "metadata": {},
   "source": [
    "~~ GRADED CELL (3 marks) - complete this cell ~~\n",
    "\n",
    "*Your answer here*<br>\n",
    "Multiple sequence alignment (MSA) method is the best. From the algorithm perspective, both Striped Smith-Waterman (SSW) and K-mer focus on the similarity/distance of segmented sequences. In comparison, MSA considers the entire distance values as a whole, which is more used in homology analysis. From the trees, all the gene sequences with same prefix (KLF, YY, SP) are categorised into the same branches (same family), no matter which algorithm we use (UPGMA or NJ). This turns out that the accuracy of MSA is the highest among the three, indicating that sequences with similar names are more likely to be homologous."
   ]
  }
 ],
 "metadata": {
  "kernelspec": {
   "display_name": "Python 3",
   "language": "python",
   "name": "python3"
  },
  "language_info": {
   "codemirror_mode": {
    "name": "ipython",
    "version": 3
   },
   "file_extension": ".py",
   "mimetype": "text/x-python",
   "name": "python",
   "nbconvert_exporter": "python",
   "pygments_lexer": "ipython3",
   "version": "3.6.4"
  }
 },
 "nbformat": 4,
 "nbformat_minor": 2
}
